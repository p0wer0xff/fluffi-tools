{
 "cells": [
  {
   "cell_type": "code",
   "execution_count": 3,
   "metadata": {},
   "outputs": [],
   "source": [
    "import os\n",
    "\n",
    "import pandas as pd\n",
    "\n",
    "import experiment\n",
    "import fluffi\n",
    "\n",
    "# Constants\n",
    "RUN_DIR = os.path.join(experiment.EXP_BASE_DIR, \"run1/\")\n"
   ]
  },
  {
   "cell_type": "code",
   "execution_count": 4,
   "metadata": {},
   "outputs": [],
   "source": [
    "exp = {}\n",
    "\n",
    "# Iterate over locations\n",
    "for n in range(experiment.N_MIN, experiment.N_MAX + 1):\n",
    "    location = fluffi.LOCATION_FMT.format(n)\n",
    "    exp[location] = {}\n",
    "    location_dir = os.path.join(RUN_DIR, location)\n",
    "\n",
    "    # Iterate over benchmarks\n",
    "    for benchmark in experiment.BENCHMARKS:\n",
    "        exp[location][benchmark] = []\n",
    "        benchmark_dir = os.path.join(location_dir, benchmark)\n",
    "\n",
    "        # Get the trials\n",
    "        for filename in os.listdir(benchmark_dir):\n",
    "            if not filename.endswith(\".parquet\"):\n",
    "                continue\n",
    "            parquet_path = os.path.join(benchmark_dir, filename)\n",
    "\n",
    "            # Read from parquet\n",
    "            df = pd.read_parquet(parquet_path)\n",
    "            exp[location][benchmark].append(df)\n"
   ]
  }
 ],
 "metadata": {
  "interpreter": {
   "hash": "31f2aee4e71d21fbe5cf8b01ff0e069b9275f58929596ceb00d14d90e3e16cd6"
  },
  "kernelspec": {
   "display_name": "Python 3.9.10 64-bit",
   "language": "python",
   "name": "python3"
  },
  "language_info": {
   "codemirror_mode": {
    "name": "ipython",
    "version": 3
   },
   "file_extension": ".py",
   "mimetype": "text/x-python",
   "name": "python",
   "nbconvert_exporter": "python",
   "pygments_lexer": "ipython3",
   "version": "3.9.10"
  },
  "orig_nbformat": 4
 },
 "nbformat": 4,
 "nbformat_minor": 2
}
